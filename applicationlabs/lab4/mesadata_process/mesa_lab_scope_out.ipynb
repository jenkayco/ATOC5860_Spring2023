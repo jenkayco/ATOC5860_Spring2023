{
 "cells": [
  {
   "cell_type": "code",
   "execution_count": 4,
   "id": "01c875b6",
   "metadata": {},
   "outputs": [],
   "source": [
    "#import modules\n",
    "import numpy as np\n",
    "import matplotlib.pyplot as plt\n",
    "import xarray as xr\n",
    "import numpy as np   # basic math library  you will type np.$STUFF  e.g., np.cos(1)\n",
    "import numpy.linalg as LA\n",
    "from matplotlib.gridspec import GridSpec\n",
    "import timeit\n",
    "import datetime\n",
    "import scipy.stats as stats\n",
    "import glob\n",
    "\n",
    "#folder='/Users/jen/Downloads/data'\n",
    "#folder='/Users/jen/Dropbox/ATOC4500Spring2022_DataScienceLab/data/mesa/'\n",
    "filedir='mesa/'"
   ]
  },
  {
   "cell_type": "code",
   "execution_count": 2,
   "id": "29b605f9",
   "metadata": {},
   "outputs": [],
   "source": [
    "### NOTES\n",
    "### 1) The file type switches in 2020 from .cdf to .nc.  The data are slightly different after that transition.\n",
    "### As a result, 2020 is going to be an \"interesting year to process.\" I recommend tackling it last... \n",
    "### First, 2021 (all .nc format) and then 2019 (all .cdf format).  Then, 2020 combining the two.\n",
    "### 2) Some files have missing data.  For the .cdf files - that means some of them have fewer values.  I think \n",
    "### I will need to introduce a fill value for these data.\n",
    "### 3) The data are every 5 minutes.  ## notes: time is 289 - 5 minute data. \n",
    "### 4) The files time is in UTC - starting at midnight UTC.\n",
    "### 5) I got the data from the NCAR EOL ftp site (ftp://ftp.eol.ucar.edu/pub/archive/weather) - I used command line ftp on Cheyenne, then transferred to my\n",
    "### local computer using globus \n"
   ]
  },
  {
   "cell_type": "code",
   "execution_count": 3,
   "id": "bc893c27",
   "metadata": {},
   "outputs": [
    {
     "name": "stdout",
     "output_type": "stream",
     "text": [
      "<xarray.Dataset>\n",
      "Dimensions:      (time: 289)\n",
      "Coordinates:\n",
      "  * time         (time) datetime64[ns] 2020-12-31 ... 2021-01-01\n",
      "Data variables:\n",
      "    lat          float64 ...\n",
      "    lon          float64 ...\n",
      "    alt          float64 ...\n",
      "    pres         (time) float64 ...\n",
      "    rain_accum   (time) float64 ...\n",
      "    rh           (time) float64 ...\n",
      "    tdry         (time) float64 ...\n",
      "    wdir         (time) float64 ...\n",
      "    wspd         (time) float64 ...\n",
      "    wspd_max     (time) float64 ...\n",
      "    U            (time) float64 ...\n",
      "    V            (time) float64 ...\n",
      "    dewpoint     (time) float64 ...\n",
      "    cpres0       (time) float64 ...\n",
      "    windchill    (time) float64 ...\n",
      "    raina_event  (time) float64 ...\n",
      "    raina_daily  (time) float64 ...\n",
      "Attributes:\n",
      "    site_name:      NCAR Mesa Lab\n",
      "    site_location:  NCAR Mesa Lab, South West Boulder, CO\n",
      "    Conventions:    CF-1.7\n"
     ]
    },
    {
     "data": {
      "image/png": "[encoded data removed]",
      "text/plain": [
       "<Figure size 432x288 with 1 Axes>"
      ]
     },
     "metadata": {
      "needs_background": "light"
     },
     "output_type": "display_data"
    }
   ],
   "source": [
    "#### Here I read in a single file of the .nc (latest file type)\n",
    "#### and make a plot of the windspeed variable.  units are m/s\n",
    "\n",
    "filename='mlab.20201231.nc'\n",
    "ds=xr.open_dataset(filedir+filename)\n",
    "print(ds)\n",
    "\n",
    "#print(ds['wmax'].shape)\n",
    "#print(ds['time'])\n",
    "#print(ds['base_time'].values)\n",
    "#print(ds['time_offset'].values)\n",
    "\n",
    "plt.plot(ds['wspd']);"
   ]
  },
  {
   "cell_type": "code",
   "execution_count": 4,
   "id": "2c9e9b5a",
   "metadata": {},
   "outputs": [
    {
     "name": "stdout",
     "output_type": "stream",
     "text": [
      "<class 'list'>\n",
      "31\n",
      "(8872,)\n"
     ]
    },
    {
     "data": {
      "text/plain": [
       "<xarray.Dataset>\n",
       "Dimensions:      (time: 8872)\n",
       "Coordinates:\n",
       "  * time         (time) datetime64[ns] 2021-01-01 ... 2021-02-01\n",
       "Data variables:\n",
       "    lat          (time) float64 39.98 39.98 39.98 39.98 ... 39.98 39.98 39.98\n",
       "    lon          (time) float64 -105.3 -105.3 -105.3 ... -105.3 -105.3 -105.3\n",
       "    alt          (time) float64 1.885e+03 1.885e+03 ... 1.885e+03 1.885e+03\n",
       "    pres         (time) float64 dask.array<shape=(8872,), chunksize=(289,)>\n",
       "    rain_accum   (time) float64 dask.array<shape=(8872,), chunksize=(289,)>\n",
       "    rh           (time) float64 dask.array<shape=(8872,), chunksize=(289,)>\n",
       "    tdry         (time) float64 dask.array<shape=(8872,), chunksize=(289,)>\n",
       "    wdir         (time) float64 dask.array<shape=(8872,), chunksize=(289,)>\n",
       "    wspd         (time) float64 dask.array<shape=(8872,), chunksize=(289,)>\n",
       "    wspd_max     (time) float64 dask.array<shape=(8872,), chunksize=(289,)>\n",
       "    U            (time) float64 dask.array<shape=(8872,), chunksize=(289,)>\n",
       "    V            (time) float64 dask.array<shape=(8872,), chunksize=(289,)>\n",
       "    dewpoint     (time) float64 dask.array<shape=(8872,), chunksize=(289,)>\n",
       "    cpres0       (time) float64 dask.array<shape=(8872,), chunksize=(289,)>\n",
       "    windchill    (time) float64 dask.array<shape=(8872,), chunksize=(289,)>\n",
       "    raina_event  (time) float64 dask.array<shape=(8872,), chunksize=(289,)>\n",
       "    raina_daily  (time) float64 dask.array<shape=(8872,), chunksize=(289,)>\n",
       "Attributes:\n",
       "    site_name:      NCAR Mesa Lab\n",
       "    site_location:  NCAR Mesa Lab, South West Boulder, CO\n",
       "    Conventions:    CF-1.7"
      ]
     },
     "execution_count": 4,
     "metadata": {},
     "output_type": "execute_result"
    }
   ],
   "source": [
    "### here I read in all of the nc files for a single year and then figure out how many are missing...\n",
    "\n",
    "files2021=sorted(glob.glob(filedir+'mlab.202101*.nc'))\n",
    "#print(files2021)\n",
    "print(type(files2021))\n",
    "print(len(files2021))\n",
    "ds_nc=xr.open_mfdataset(files2021) ##,decode_times=True,concat_dim='time') \n",
    "#print(ds_nc)\n",
    "print(ds_nc['tdry'].shape)\n",
    "ds_nc"
   ]
  },
  {
   "cell_type": "code",
   "execution_count": 5,
   "id": "d522b748",
   "metadata": {},
   "outputs": [
    {
     "name": "stdout",
     "output_type": "stream",
     "text": [
      "<class 'list'>\n",
      "31\n",
      "mesa/mlab.20210101.nc\n",
      "mesa/mlab.20210107.nc\n",
      "261\n",
      "mesa/mlab.20210112.nc\n",
      "288\n",
      "mesa/mlab.20210113.nc\n",
      "288\n",
      "mesa/mlab.20210114.nc\n",
      "288\n",
      "mesa/mlab.20210120.nc\n",
      "287\n",
      "mesa/mlab.20210121.nc\n",
      "235\n",
      "6\n"
     ]
    }
   ],
   "source": [
    "### here I read in all of the nc files for a single year and then figure out how many are missing...\n",
    "\n",
    "files2021=sorted(glob.glob(filedir+'mlab.202101*.nc'))\n",
    "#print(files2021)\n",
    "print(type(files2021))\n",
    "print(len(files2021))\n",
    "\n",
    "print(files2021[0])\n",
    "\n",
    "### loop to check the dimensions of the files - many are less than 288\n",
    "count=0\n",
    "for i in np.arange(0,len(files2021)): ##len(files))\n",
    "    #print(files[0])\n",
    "    foo=xr.open_dataset(files2021[i])\n",
    "    if (len(foo['wspd_max'])!=289):\n",
    "        print(files2021[i])\n",
    "        print(len(foo['wspd_max']))\n",
    "        count=count+1        \n",
    "print(count) "
   ]
  },
  {
   "cell_type": "code",
   "execution_count": 6,
   "id": "666e14e2",
   "metadata": {},
   "outputs": [
    {
     "name": "stdout",
     "output_type": "stream",
     "text": [
      "<xarray.Dataset>\n",
      "Dimensions:      (time: 235)\n",
      "Coordinates:\n",
      "  * time         (time) datetime64[ns] 2021-01-21 ... 2021-01-22\n",
      "Data variables:\n",
      "    lat          float64 ...\n",
      "    lon          float64 ...\n",
      "    alt          float64 ...\n",
      "    pres         (time) float64 ...\n",
      "    rain_accum   (time) float64 ...\n",
      "    rh           (time) float64 ...\n",
      "    tdry         (time) float64 ...\n",
      "    wdir         (time) float64 ...\n",
      "    wspd         (time) float64 ...\n",
      "    wspd_max     (time) float64 ...\n",
      "    U            (time) float64 ...\n",
      "    V            (time) float64 ...\n",
      "    dewpoint     (time) float64 ...\n",
      "    cpres0       (time) float64 ...\n",
      "    windchill    (time) float64 ...\n",
      "    raina_event  (time) float64 ...\n",
      "    raina_daily  (time) float64 ...\n",
      "Attributes:\n",
      "    site_name:      NCAR Mesa Lab\n",
      "    site_location:  NCAR Mesa Lab, South West Boulder, CO\n",
      "    Conventions:    CF-1.7\n",
      "(235,)\n",
      "(235,)\n",
      "<xarray.DataArray 'time' (time: 235)>\n",
      "array(['2021-01-21T00:00:00.000000000', '2021-01-21T00:05:00.000000000',\n",
      "       '2021-01-21T00:10:00.000000000', ..., '2021-01-21T23:50:00.000000000',\n",
      "       '2021-01-21T23:55:00.000000000', '2021-01-22T00:00:00.000000000'],\n",
      "      dtype='datetime64[ns]')\n",
      "Coordinates:\n",
      "  * time     (time) datetime64[ns] 2021-01-21 2021-01-21T00:05:00 ... 2021-01-22\n",
      "Attributes:\n",
      "    long_name:  time\n"
     ]
    },
    {
     "data": {
      "image/png": "[encoded data removed]",
      "text/plain": [
       "<Figure size 432x288 with 1 Axes>"
      ]
     },
     "metadata": {
      "needs_background": "light"
     },
     "output_type": "display_data"
    }
   ],
   "source": [
    "## here's what a nc file with missing data looks like\n",
    "\n",
    "ds=xr.open_dataset('mesa/mlab.20210121.nc')\n",
    "print(ds)\n",
    "\n",
    "print(ds['wspd'].shape)\n",
    "print(ds['time'].shape)\n",
    "\n",
    "## notes: time is 289 - 5 minute data. on the UTC day - starting at midnight UTC.\n",
    "#print(ds['base_time'].values)\n",
    "#print(ds['time_offset'].values)\n",
    "\n",
    "plt.plot(ds['wspd'],ds['time']);\n",
    "print(ds['time'])"
   ]
  },
  {
   "cell_type": "code",
   "execution_count": 7,
   "id": "fe574c79",
   "metadata": {},
   "outputs": [
    {
     "name": "stdout",
     "output_type": "stream",
     "text": [
      "(235,)\n",
      "[    0   300   600   900  1200  1500  1800  2100  2400  2700  3000  3300\n",
      "  3600  3900  4200  4500  4800  5100  5400  5700  6000  6300  6600  6900\n",
      "  7200  7500  7800  8100  8400  8700  9000  9300  9600  9900 10200 10500\n",
      " 10800 11100 11400 11700 12000 12300 12600 12900 13200 13500 13800 14100\n",
      " 14400 14700 15000 15300 15600 15900 16200 16500 16800 17100 17400 17700\n",
      " 18000 18300 18600 18900 19200 19500 19800 20100 20400 20700 21000 21300\n",
      " 21600 21900 22200 22500 22800 23100 23400 23700 24000 24300 24600 24900\n",
      " 25200 25500 25800 26100 26400 26700 27000 27300 27600 27900 28200 28500\n",
      " 28800 29100 29400 29700 30000 30300 30600 30900 31200 31500 31800 32100\n",
      " 32400 32700 33000 33300 33600 33900 34200 34500 34800 35100 35400 35700\n",
      " 36000 36300 36600 36900 37200 37500 37800 38100 38400 38700 39000 39300\n",
      " 39600 39900 40200 40500 40800 41100 41400 41700 42000 42300 42600 42900\n",
      " 43200 43500 43800 44100 44400 44700 45000 45300 45600 45900 46200 46500\n",
      " 46800 47100 47400 47700 48000 48300 48600 48900 49200 49500 49800 50100\n",
      " 50400 50700 66900 67500 67800 68100 68400 68700 69000 69300 69600 69900\n",
      " 70200 70500 70800 71100 71400 71700 72000 72300 72600 72900 73200 73500\n",
      " 73800 74100 74400 74700 75000 75300 75600 75900 76200 76500 76800 77100\n",
      " 77400 77700 78000 78300 78600 78900 79200 79500 79800 80100 80400 80700\n",
      " 81000 81300 81600 81900 82200 82500 82800 83100 83400 83700 84000 84300\n",
      " 84600 84900 85200 85500 85800 86100 86400]\n"
     ]
    }
   ],
   "source": [
    "### convert the time in the .nc files into the seconds since midnight - WITH missing data\n",
    "\n",
    "ds=xr.open_dataset('mesa/mlab.20210121.nc')\n",
    "\n",
    "#print(ds['time'][0])\n",
    "#print(ds['time'][1])\n",
    "#print(ds['time'][1]-ds['time'][0])\n",
    "#foo=(ds['time'][:]-ds['time'][0])*0.000000001\n",
    "\n",
    "## calculate seconds since midnight\n",
    "foo=(ds['time'][:]-ds['time'][0])  ## subtract the nano seconds of the first time\n",
    "foo=foo/10**9 ## convert from nanoseconds to seconds\n",
    "#print(foo.values)\n",
    "#print(foo.shape)\n",
    "#fool=np.int(foo.values)\n",
    "seconds_since_00UTC=foo.values.astype(int)\n",
    "print(seconds_since_00UTC.shape)\n",
    "print(seconds_since_00UTC)"
   ]
  },
  {
   "cell_type": "code",
   "execution_count": 8,
   "id": "90ec7ca3",
   "metadata": {},
   "outputs": [
    {
     "name": "stdout",
     "output_type": "stream",
     "text": [
      "<xarray.Dataset>\n",
      "Dimensions:      (time: 287)\n",
      "Coordinates:\n",
      "  * time         (time) datetime64[ns] 2021-12-30 ... 2021-12-31\n",
      "Data variables:\n",
      "    lat          float64 ...\n",
      "    lon          float64 ...\n",
      "    alt          float64 ...\n",
      "    pres         (time) float64 ...\n",
      "    rain_accum   (time) float64 ...\n",
      "    rh           (time) float64 ...\n",
      "    tdry         (time) float64 ...\n",
      "    wdir         (time) float64 ...\n",
      "    wspd         (time) float64 ...\n",
      "    wspd_max     (time) float64 ...\n",
      "    U            (time) float64 ...\n",
      "    V            (time) float64 ...\n",
      "    dewpoint     (time) float64 ...\n",
      "    cpres0       (time) float64 ...\n",
      "    windchill    (time) float64 ...\n",
      "    raina_event  (time) float64 ...\n",
      "    raina_daily  (time) float64 ...\n",
      "Attributes:\n",
      "    site_name:      NCAR Mesa Lab\n",
      "    site_location:  NCAR Mesa Lab, South West Boulder, CO\n",
      "    Conventions:    CF-1.7\n",
      "(287,)\n",
      "(287,)\n",
      "<xarray.DataArray 'time' (time: 287)>\n",
      "array(['2021-12-30T00:00:00.000000000', '2021-12-30T00:05:00.000000000',\n",
      "       '2021-12-30T00:10:00.000000000', ..., '2021-12-30T23:50:00.000000000',\n",
      "       '2021-12-30T23:55:00.000000000', '2021-12-31T00:00:00.000000000'],\n",
      "      dtype='datetime64[ns]')\n",
      "Coordinates:\n",
      "  * time     (time) datetime64[ns] 2021-12-30 2021-12-30T00:05:00 ... 2021-12-31\n",
      "Attributes:\n",
      "    long_name:  time\n"
     ]
    },
    {
     "data": {
      "image/png": "[encoded data removed]",
      "text/plain": [
       "<Figure size 432x288 with 1 Axes>"
      ]
     },
     "metadata": {
      "needs_background": "light"
     },
     "output_type": "display_data"
    }
   ],
   "source": [
    "## here's what a nc file withOUT missing data looks like\n",
    "\n",
    "ds=xr.open_dataset('mesa/mlab.20211230.nc')\n",
    "print(ds)\n",
    "\n",
    "print(ds['wspd'].shape)\n",
    "print(ds['time'].shape)\n",
    "\n",
    "## notes: time is 289 - 5 minute data. on the UTC day - starting at midnight UTC.\n",
    "#print(ds['base_time'].values)\n",
    "#print(ds['time_offset'].values)\n",
    "\n",
    "plt.plot(ds['wspd'],ds['time']);\n",
    "print(ds['time'])"
   ]
  },
  {
   "cell_type": "code",
   "execution_count": 9,
   "id": "cc9871d7",
   "metadata": {},
   "outputs": [
    {
     "name": "stdout",
     "output_type": "stream",
     "text": [
      "(287,)\n",
      "[    0   300   600   900  1200  1500  1800  2100  2400  2700  3000  3300\n",
      "  3600  3900  4200  4500  4800  5100  5400  5700  6000  6300  6600  6900\n",
      "  7200  7500  7800  8100  8400  8700  9000  9300  9600  9900 10200 10500\n",
      " 10800 11100 11400 11700 12000 12300 12600 12900 13200 13500 13800 14100\n",
      " 14400 14700 15000 15300 15600 15900 16200 16500 16800 17100 17400 17700\n",
      " 18000 18300 18600 18900 19200 19500 19800 20100 20400 20700 21000 21300\n",
      " 21600 21900 22200 22500 22800 23100 23400 23700 24000 24300 24600 24900\n",
      " 25200 25500 25800 26100 26400 26700 27000 27300 27600 27900 28200 28500\n",
      " 28800 29100 29400 29700 30000 30300 30600 30900 31200 31500 31800 32100\n",
      " 32400 32700 33000 33300 33600 33900 34200 34500 34800 35100 35400 35700\n",
      " 36000 36300 36600 36900 37200 37500 37800 38100 38400 38700 39000 39300\n",
      " 39600 39900 40200 40500 40800 41100 41400 41700 42000 42300 42600 42900\n",
      " 43200 43500 43800 44100 44400 44700 45000 45300 45600 45900 46200 46500\n",
      " 46800 47100 47400 47700 48000 48300 48600 48900 49200 49500 49800 50100\n",
      " 50400 50700 51000 51300 51600 51900 52200 52500 52800 53100 53400 53700\n",
      " 54000 54300 54600 54900 55500 55800 56100 56400 56700 57000 57300 57600\n",
      " 57900 58200 58500 58800 59100 59400 59700 60000 60600 60900 61200 61500\n",
      " 61800 62100 62400 62700 63000 63300 63600 63900 64200 64500 64800 65100\n",
      " 65400 65700 66000 66300 66600 66900 67200 67500 67800 68100 68400 68700\n",
      " 69000 69300 69600 69900 70200 70500 70800 71100 71400 71700 72000 72300\n",
      " 72600 72900 73200 73500 73800 74100 74400 74700 75000 75300 75600 75900\n",
      " 76200 76500 76800 77100 77400 77700 78000 78300 78600 78900 79200 79500\n",
      " 79800 80100 80400 80700 81000 81300 81600 81900 82200 82500 82800 83100\n",
      " 83400 83700 84000 84300 84600 84900 85200 85500 85800 86100 86400]\n"
     ]
    }
   ],
   "source": [
    "### convert the time in the .nc files into the seconds since midnight - no missing data\n",
    "\n",
    "ds=xr.open_dataset('mesa/mlab.20211230.nc')\n",
    "\n",
    "#print(ds['time'][0])\n",
    "#print(ds['time'][1])\n",
    "#print(ds['time'][1]-ds['time'][0])\n",
    "#foo=(ds['time'][:]-ds['time'][0])*0.000000001\n",
    "\n",
    "## calculate seconds since midnight\n",
    "foo=(ds['time'][:]-ds['time'][0])  ## subtract the nano seconds of the first time\n",
    "foo=foo/10**9 ## convert from nanoseconds to seconds\n",
    "#print(foo.values)\n",
    "#print(foo.shape)\n",
    "#fool=np.int(foo.values)\n",
    "seconds_since_00UTC=foo.values.astype(int)\n",
    "print(seconds_since_00UTC.shape)\n",
    "print(seconds_since_00UTC)"
   ]
  },
  {
   "cell_type": "code",
   "execution_count": 10,
   "id": "abf7a6de",
   "metadata": {},
   "outputs": [],
   "source": [
    "##### BELOW CODE IS to diagnose what is going on with the cdf files"
   ]
  },
  {
   "cell_type": "code",
   "execution_count": 5,
   "id": "95a72dd1",
   "metadata": {},
   "outputs": [
    {
     "name": "stdout",
     "output_type": "stream",
     "text": [
      "<class 'list'>\n",
      "365\n",
      "mesa/mlab.20190101.cdf\n",
      "42\n"
     ]
    }
   ],
   "source": [
    "### here I read in all of the cdf files for a single year and then figure out how many are missing...\n",
    "\n",
    "files2019=sorted(glob.glob(filedir+'mlab.2019*.cdf'))\n",
    "#print(files)\n",
    "print(type(files2019))\n",
    "print(len(files2019))\n",
    "#ds_cdf=xr.open_mfdataset(files,decode_times=True) ##,concat_dim='time') #\n",
    "#print(ds_cdf)\n",
    "#print(ds_cdf['tdry'].shape)\n",
    "\n",
    "print(files2019[0])\n",
    "\n",
    "### loop to check the dimensions of the files - many are less than 288\n",
    "count=0\n",
    "for i in np.arange(0,len(files2019)): ##len(files))\n",
    "    #print(files[0])\n",
    "    foo=xr.open_dataset(files2019[i])\n",
    "    if (len(foo['wmax'])!=288):\n",
    "        #print(files2019[i])\n",
    "        #print(len(foo['wmax']))\n",
    "        count=count+1        \n",
    "print(count) "
   ]
  },
  {
   "cell_type": "code",
   "execution_count": 6,
   "id": "a4a3e03d",
   "metadata": {},
   "outputs": [
    {
     "name": "stdout",
     "output_type": "stream",
     "text": [
      "<xarray.Dataset>\n",
      "Dimensions:      (time: 34)\n",
      "Dimensions without coordinates: time\n",
      "Data variables:\n",
      "    base_time    int32 ...\n",
      "    samp_secs    int32 ...\n",
      "    lat          float32 ...\n",
      "    lon          float32 ...\n",
      "    alt          float32 ...\n",
      "    station      int32 ...\n",
      "    time_offset  (time) float32 ...\n",
      "    tdry         (time) float32 ...\n",
      "    rh           (time) float32 ...\n",
      "    pres         (time) float32 ...\n",
      "    cpres0       (time) float32 ...\n",
      "    dp           (time) float32 ...\n",
      "    wdir         (time) float32 ...\n",
      "    wspd         (time) float32 ...\n",
      "    wmax         (time) float32 ...\n",
      "    wsdev        (time) float32 ...\n",
      "    wchill       (time) float32 ...\n",
      "    raina        (time) float32 ...\n",
      "    raina24      (time) float32 ...\n",
      "    bat          (time) float32 ...\n",
      "<xarray.DataArray 'time_offset' (time: 34)>\n",
      "array([   0.,  300.,  600.,  900., 1200., 1500., 1800., 2100., 2400., 2700.,\n",
      "       3000., 3300., 3600., 3900., 4200., 4500., 4800., 5100., 5400., 5700.,\n",
      "       6000., 6300., 6600., 6900., 7200., 7500., 7800., 8100., 8400., 8700.,\n",
      "       9000., 9300., 9600., 9900.], dtype=float32)\n",
      "Dimensions without coordinates: time\n"
     ]
    },
    {
     "data": {
      "image/png": "[encoded data removed]",
      "text/plain": [
       "<Figure size 432x288 with 1 Axes>"
      ]
     },
     "metadata": {
      "needs_background": "light"
     },
     "output_type": "display_data"
    }
   ],
   "source": [
    "## here's what a cdf file with missing data looks like\n",
    "\n",
    "ds=xr.open_dataset('mesa/mlab.20190413.cdf')\n",
    "print(ds)\n",
    "\n",
    "#print(ds['wmax'].shape)\n",
    "#print(ds['time'])\n",
    "\n",
    "## notes: time is 289 - 5 minute data. on the UTC day - starting at midnight UTC.\n",
    "#print(ds['base_time'].values)\n",
    "#print(ds['time_offset'].values)\n",
    "\n",
    "plt.plot(ds['wspd']);\n",
    "print(ds['time_offset'])"
   ]
  },
  {
   "cell_type": "code",
   "execution_count": null,
   "id": "c968ba69",
   "metadata": {},
   "outputs": [],
   "source": [
    "#### here's what a cdf file without missing data looks like\n",
    "\n",
    "ds=xr.open_dataset('mesa/mlab.20190412.cdf')\n",
    "print(ds)\n",
    "\n",
    "#print(ds['wmax'].shape)\n",
    "#print(ds['time'])\n",
    "\n",
    "## notes: time is 289 - 5 minute data. on the UTC day - starting at midnight UTC.\n",
    "#print(ds['base_time'].values)\n",
    "#print(ds['time_offset'].values)\n",
    "\n",
    "plt.plot(ds['wspd']);\n",
    "print(ds['time_offset'])"
   ]
  },
  {
   "cell_type": "code",
   "execution_count": null,
   "id": "f5f289f9",
   "metadata": {},
   "outputs": [],
   "source": [
    "### missing value code\n",
    "\n",
    "a = np.array([0,600,1800])\n",
    "print(a)\n",
    "b = np.arange(0,1800+300,300)\n",
    "print(b)\n",
    "\n",
    "### find which arrays match\n",
    "match_boolean=np.in1d(b,a)\n",
    "match_idx=np.arange(b.shape[0])[np.in1d(b,a)]\n",
    "\n",
    "## first I need to make a the same size as b\n",
    "a_withmissing=np.zeros(len(b))-999\n",
    "a_withmissing[match_idx]=b[match_idx]\n",
    "print(a_withmissing)\n"
   ]
  },
  {
   "cell_type": "code",
   "execution_count": null,
   "id": "260e63ad",
   "metadata": {},
   "outputs": [],
   "source": [
    "###### SCRATCH CODE FOR TESTING PYTHON - not needed\n",
    "scratch=0\n",
    "\n",
    "if scratch==1:\n",
    "\n",
    "    all_seconds=np.arange(0,86400+300,300)\n",
    "    print(all_seconds.shape)\n",
    "    #print(all_seconds)\n",
    "\n",
    "    some_seconds=np.arange(0,86400+300,600)\n",
    "    print(some_seconds.shape)\n",
    "    #print(some_seconds)\n",
    "\n",
    "    ### first - i find which arrays match\n",
    "    #match_boolean=np.in1d(all_seconds,some_seconds)\n",
    "    match_idx=np.arange(all_seconds.shape[0])[np.in1d(all_seconds,some_seconds)]\n",
    "    ## then I need to make a the same size as all_seconds, use fill value\n",
    "    some_seconds_withmissing=np.zeros(len(all_seconds))-999\n",
    "    ## then I need to fill in the some_seconds where there is a good value\n",
    "    some_seconds_withmissing[match_idx]=all_seconds[match_idx]\n",
    "    print(some_seconds_withmissing.shape)\n",
    "\n",
    "    a = np.array([0,600,1800])\n",
    "    print(a)\n",
    "    b = np.arange(0,1800+300,300)\n",
    "    print(b)\n",
    "\n",
    "    ### find which arrays match\n",
    "    match_boolean=np.in1d(b,a)\n",
    "    match_idx=np.arange(b.shape[0])[np.in1d(b,a)]\n",
    "\n",
    "    ## first I need to make a the same size as b\n",
    "    a_withmissing=np.zeros(len(b))-999\n",
    "    a_withmissing[match_idx]=b[match_idx]\n",
    "    print(a_withmissing)"
   ]
  },
  {
   "cell_type": "code",
   "execution_count": null,
   "id": "0c8dd310",
   "metadata": {},
   "outputs": [],
   "source": []
  }
 ],
 "metadata": {
  "kernelspec": {
   "display_name": "Python 3",
   "language": "python",
   "name": "python3"
  },
  "language_info": {
   "codemirror_mode": {
    "name": "ipython",
    "version": 3
   },
   "file_extension": ".py",
   "mimetype": "text/x-python",
   "name": "python",
   "nbconvert_exporter": "python",
   "pygments_lexer": "ipython3",
   "version": "3.6.13"
  }
 },
 "nbformat": 4,
 "nbformat_minor": 5
}
