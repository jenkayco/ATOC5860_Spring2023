{
 "cells": [
  {
   "cell_type": "markdown",
   "metadata": {},
   "source": [
    "#  Application Lab #1 ATOC5860 Objective Analysis - bootstrapping\n",
    "##### Originally coded by Prof. Kay (CU) with input from Vineel Yettella (CU ATOC Ph.D. 2018)\n",
    "##### last updated January 30, 2023\n",
    "\n",
    "### LEARNING GOALS:\n",
    "1) Use an ipython notebook to read in csv file, print variables, calculate basic statistics, do a bootstrap, make histogram plot\n",
    "2) Hypothesis testing and statistical significance testing using bootstrapping\n",
    "3) Contrast results obtained using bootstrapping with results obtained using a t-test\n",
    "\n",
    "### DATA and UNDERLYING SCIENCE MOTIVATION:  \n",
    "In this notebook, you will analyze the relationship between Tropical Pacific Sea Surface Temperature (SST) anomalies and Colorado snowpack. Specifically, you will test the hypothesis that December Pacific SST anomalies driven by the El Nino Southern Oscillation affect the total wintertime snow accumulation at a mountain pass in Colorado.  When SSTs in the central Pacific are anomalously warm/cold, jet and precipitation locations can change. But do these atmospheric teleconnections affect total Colorado snow accumulation in the following winter? This notebook will guide you through an analysis to investigate the connections between December Nino3.4 SST anomalies (in units of °C) and the following April 1 Berthoud Pass, Colorado Snow Water Equivalence (in units of inches). Note that SWE is a measure of the amount of water contained in the snowpack.  To convert to snow depth, you multiply by ~5 (the exact value depends on the snow density).\n",
    "\n",
    "The data have already been munged into a file called 'snow_enso_data_1936-2022.csv'. The Berthoud Pass SWE data are from: https://www.nrcs.usda.gov/wps/portal/wcc/home/snowClimateMonitoring/ and\n",
    "https://wcc.sc.egov.usda.gov/nwcc/rgrpt?report=snowmonth_hist&state=CO. The Nino3.4 data are from: https://www.esrl.noaa.gov/psd/gcos_wgsp/Timeseries/Nino34/"
   ]
  },
  {
   "cell_type": "markdown",
   "metadata": {},
   "source": [
    "### First, let's load packages, read in data, look at your data"
   ]
  },
  {
   "cell_type": "code",
   "execution_count": 19,
   "metadata": {},
   "outputs": [],
   "source": [
    "%matplotlib inline  \n",
    "# this enables plotting within notebook\n",
    "\n",
    "import matplotlib   # library for plotting\n",
    "import matplotlib.pyplot as plt #  later you will type plt.$COMMAND\n",
    "import numpy as np   # basic math library  you will type np.$STUFF  e.g., np.cos(1)\n",
    "import pandas as pd  # library for data analysis for text files (everything but netcdf files)\n",
    "import scipy.stats as stats # imports stats functions https://docs.scipy.org/doc/scipy/reference/stats.html "
   ]
  },
  {
   "cell_type": "code",
   "execution_count": 20,
   "metadata": {},
   "outputs": [
    {
     "data": {
      "text/html": [
       "<div>\n",
       "<style scoped>\n",
       "    .dataframe tbody tr th:only-of-type {\n",
       "        vertical-align: middle;\n",
       "    }\n",
       "\n",
       "    .dataframe tbody tr th {\n",
       "        vertical-align: top;\n",
       "    }\n",
       "\n",
       "    .dataframe thead th {\n",
       "        text-align: right;\n",
       "    }\n",
       "</style>\n",
       "<table border=\"1\" class=\"dataframe\">\n",
       "  <thead>\n",
       "    <tr style=\"text-align: right;\">\n",
       "      <th></th>\n",
       "      <th>Year</th>\n",
       "      <th>BerthoudPass_April1SWE_inches</th>\n",
       "      <th>Nino34_anomaly_prevDec</th>\n",
       "    </tr>\n",
       "  </thead>\n",
       "  <tbody>\n",
       "    <tr>\n",
       "      <th>0</th>\n",
       "      <td>1936</td>\n",
       "      <td>22.5</td>\n",
       "      <td>-0.04</td>\n",
       "    </tr>\n",
       "    <tr>\n",
       "      <th>1</th>\n",
       "      <td>1937</td>\n",
       "      <td>13.4</td>\n",
       "      <td>0.63</td>\n",
       "    </tr>\n",
       "    <tr>\n",
       "      <th>2</th>\n",
       "      <td>1938</td>\n",
       "      <td>13.2</td>\n",
       "      <td>0.22</td>\n",
       "    </tr>\n",
       "    <tr>\n",
       "      <th>3</th>\n",
       "      <td>1939</td>\n",
       "      <td>18.6</td>\n",
       "      <td>-0.79</td>\n",
       "    </tr>\n",
       "    <tr>\n",
       "      <th>4</th>\n",
       "      <td>1940</td>\n",
       "      <td>14.5</td>\n",
       "      <td>0.05</td>\n",
       "    </tr>\n",
       "  </tbody>\n",
       "</table>\n",
       "</div>"
      ],
      "text/plain": [
       "   Year  BerthoudPass_April1SWE_inches  Nino34_anomaly_prevDec\n",
       "0  1936                           22.5                   -0.04\n",
       "1  1937                           13.4                    0.63\n",
       "2  1938                           13.2                    0.22\n",
       "3  1939                           18.6                   -0.79\n",
       "4  1940                           14.5                    0.05"
      ]
     },
     "execution_count": 20,
     "metadata": {},
     "output_type": "execute_result"
    }
   ],
   "source": [
    "### Read in the data\n",
    "filename='snow_enso_data_1936-2022.csv'\n",
    "data=pd.read_csv(filename,sep=',')\n",
    "data.head()"
   ]
  },
  {
   "cell_type": "code",
   "execution_count": 21,
   "metadata": {},
   "outputs": [
    {
     "name": "stdout",
     "output_type": "stream",
     "text": [
      "Year\n",
      "BerthoudPass_April1SWE_inches\n",
      "Nino34_anomaly_prevDec\n"
     ]
    }
   ],
   "source": [
    "### Print the data column names\n",
    "print(data.columns[0])\n",
    "print(data.columns[1])\n",
    "print(data.columns[2])"
   ]
  },
  {
   "cell_type": "code",
   "execution_count": 22,
   "metadata": {},
   "outputs": [
    {
     "name": "stdout",
     "output_type": "stream",
     "text": [
      "[1936 1937 1938 1939 1940 1941 1942 1943 1944 1945 1946 1947 1948 1949\n",
      " 1950 1951 1952 1953 1954 1955 1956 1957 1958 1959 1960 1961 1962 1963\n",
      " 1964 1965 1966 1967 1968 1969 1970 1971 1972 1973 1974 1975 1976 1977\n",
      " 1978 1979 1980 1981 1982 1983 1984 1985 1986 1987 1988 1989 1990 1991\n",
      " 1992 1993 1994 1995 1996 1997 1998 1999 2000 2001 2002 2003 2004 2005\n",
      " 2006 2007 2008 2009 2010 2011 2012 2013 2014 2015 2016 2017 2018 2019\n",
      " 2020 2021 2022]\n",
      "[22.5 13.4 13.2 18.6 14.5 15.3 13.9 14.5 12.6 13.3 14.6 16.9 16.6 16.5\n",
      " 14.2 17.3 22.2 12.3 10.2 13.4 13.6 17.3 17.  17.9 15.9 11.9 18.7 11.3\n",
      " 13.5 20.2  9.8 14.3 16.1 12.4 20.3 21.6 17.3 14.4 21.  15.9 14.   9.9\n",
      " 20.4 18.5 22.2 10.  17.9 21.7 25.3 18.9 16.5 14.7 19.5 14.7 16.9 15.4\n",
      " 15.4 18.9 17.3 17.3 22.8 16.7 16.2 12.8 16.  17.9 13.4 19.4 12.3 14.9\n",
      " 20.8 16.4 19.  17.6 12.3 20.4  7.5 13.  20.6 14.6 20.6 16.4 14.  17.\n",
      " 19.1 15.6 13.4]\n",
      "[-0.04  0.63  0.22 -0.79  0.05  1.39  1.27 -1.24 -0.42 -0.26 -0.54  0.03\n",
      "  0.18  0.38 -1.2  -1.04  0.71 -0.55  0.15 -0.79 -1.52 -0.58  1.18  0.3\n",
      " -0.05  0.02 -0.29 -0.49  1.05 -1.07  1.45 -0.26 -0.35  0.76  0.68 -1.11\n",
      " -0.89  2.19 -2.18 -0.86 -1.64  0.64  1.09  0.07  0.69  0.36  0.07  2.33\n",
      " -0.95 -1.53 -0.4   0.98  1.05 -1.98 -0.13  0.32  1.62  0.04  0.19  1.21\n",
      " -0.72 -0.43  2.3  -1.51 -1.54 -0.92 -0.46  1.41  0.32  0.71 -0.75  1.1\n",
      " -1.61 -0.9   1.81 -1.63 -1.05 -0.13 -0.09  0.77  2.56 -0.51 -0.85  0.97\n",
      "  0.51 -0.98 -1.07]\n"
     ]
    }
   ],
   "source": [
    "### Print the data values - LOOK AT YOUR DATA.  \n",
    "### check out what happens when you remove .values ??\n",
    "print(data['Year'].values)\n",
    "print(data['BerthoudPass_April1SWE_inches'].values)\n",
    "print(data['Nino34_anomaly_prevDec'].values)"
   ]
  },
  {
   "cell_type": "markdown",
   "metadata": {},
   "source": [
    "### Question 1: Composite Loveland Pass, Colorado snowpack data.\n",
    "\n",
    "In other words - Find April 1 SWE in all years, in El Nino years (conditioned on Nino3.4 being 1 degree C warmer than average), and in La Nina years (condition on Nino3.4 being 1 degree C cooler than average). \n",
    "\n",
    "Make a table showing the results."
   ]
  },
  {
   "cell_type": "code",
   "execution_count": 23,
   "metadata": {},
   "outputs": [
    {
     "name": "stdout",
     "output_type": "stream",
     "text": [
      "Average SWE (inches): 16.24\n",
      "Standard Deviation SWE (inches): 3.43\n",
      "N: 87\n"
     ]
    }
   ],
   "source": [
    "### Calculate the average snowfall on April 1 at Berthoud Pass, Colorado\n",
    "SWE_avg=data['BerthoudPass_April1SWE_inches'].mean()\n",
    "SWE_std=data['BerthoudPass_April1SWE_inches'].std()\n",
    "N_SWE=len(data.BerthoudPass_April1SWE_inches)\n",
    "print(f'Average SWE (inches): {np.round(SWE_avg,2)}')\n",
    "print(f'Standard Deviation SWE (inches): {np.round(SWE_std,2)}')\n",
    "print(f'N: {np.round(N_SWE,2)}')"
   ]
  },
  {
   "cell_type": "code",
   "execution_count": 24,
   "metadata": {},
   "outputs": [
    {
     "name": "stdout",
     "output_type": "stream",
     "text": [
      "Average SWE El Nino (inches): 16.44\n",
      "Standard Deviation SWE El Nino (inches): 3.29\n",
      "N El Nino: 16\n"
     ]
    }
   ],
   "source": [
    "### Print to figure out how to condition and make sure it is working.  Check out if new to Python.\n",
    "#print(data.Nino34_anomaly_prevDec>1) ## this gives True/False\n",
    "#print(data[data.Nino34_anomaly_prevDec>1])  ## where it is True, values will print\n",
    "\n",
    "### Calculate the average SWE when it was an el nino year\n",
    "SWE_avg_nino=data[data.Nino34_anomaly_prevDec>1.0]['BerthoudPass_April1SWE_inches'].mean()\n",
    "SWE_std_nino=data[data.Nino34_anomaly_prevDec>1.0]['BerthoudPass_April1SWE_inches'].std()\n",
    "N_SWE_nino=len(data[data.Nino34_anomaly_prevDec>1.0].BerthoudPass_April1SWE_inches)\n",
    "print(f'Average SWE El Nino (inches): {np.round(SWE_avg_nino,2)}')\n",
    "print(f'Standard Deviation SWE El Nino (inches): {np.round(SWE_std_nino,2)}')\n",
    "print(f'N El Nino: {np.round(N_SWE_nino,2)}')"
   ]
  },
  {
   "cell_type": "code",
   "execution_count": 25,
   "metadata": {},
   "outputs": [
    {
     "name": "stdout",
     "output_type": "stream",
     "text": [
      "Average SWE La Nina (inches): 16.19\n",
      "Standard Deviation SWE La Nina (inches): 3.81\n",
      "N La Nina: 16\n"
     ]
    }
   ],
   "source": [
    "### Calculate the average SWE when it was an la nina year\n",
    "SWE_avg_nina=data[data.Nino34_anomaly_prevDec<-1.0]['BerthoudPass_April1SWE_inches'].mean()\n",
    "SWE_std_nina=data[data.Nino34_anomaly_prevDec<-1.0]['BerthoudPass_April1SWE_inches'].std()\n",
    "N_SWE_nina=len(data[data.Nino34_anomaly_prevDec<-1.0].BerthoudPass_April1SWE_inches)\n",
    "print(f'Average SWE La Nina (inches): {np.round(SWE_avg_nina,2)}')\n",
    "print(f'Standard Deviation SWE La Nina (inches): {np.round(SWE_std_nina,2)}')\n",
    "print(f'N La Nina: {np.round(N_SWE_nina,2)}')"
   ]
  },
  {
   "cell_type": "markdown",
   "metadata": {},
   "source": [
    "### Question 2: Use hypothesis testing to assess if the differences in snowpack are statistically significant. Write your hypothesis and the 5 steps you plan to apply here.\n",
    "\n",
    "#### (insert your text here)"
   ]
  },
  {
   "cell_type": "markdown",
   "metadata": {},
   "source": [
    "### Question 3: Let's bootstrap to evaluate your hypothesis about the influence of ENSO on Colorado Snow!!\n",
    "\n",
    "Instructions for bootstrap:  Say there are N years with El Nino conditions. Instead of averaging the Loveland SWE in those N years, randomly grab N Loveland SWE values and take their average.  Then do this again, and again, and again 1000 times.  In the end you will end up with a distribution of SWE averages in the case of random sampling, i.e., the distribution you would expect if there was no physical relationship between Nino3.4 SST anomalies and Loveland Pass SWE.  \n",
    "\n",
    "-Plot a histogram of this distribution and provide basic statistics describing this distribution (mean, standard deviation, minimum, and maximum).  \n",
    "\n",
    "-Quantify the likelihood of getting your value of mean SWE by chance alone using percentiles of this bootstrapped distribution.  What is the probability that differences between the El Nino composite and all years occurred by chance? What is the probability that differences between the La Nina composite and all years occurred by chance?\n",
    "\n",
    "Test the sensitivity of the results obtained in 2) by changing the number of bootstraps, the statistical significance level, or the definition of El Nino/La Nina (e.g., change the temperature threshold so that El Nino is defined using a 0.5 degree C temperature anomaly or a 3 degree C temperature anomaly).    In other words, TINKER and learn something about the robustness of your conclusions.  "
   ]
  },
  {
   "cell_type": "code",
   "execution_count": 26,
   "metadata": {},
   "outputs": [
    {
     "name": "stdout",
     "output_type": "stream",
     "text": [
      "[22.5 13.  13.  16.  13.3 14.4 13.4 22.2 22.8 14.2 14.  19.5 17.3 18.9\n",
      " 15.4 16.4]\n"
     ]
    }
   ],
   "source": [
    "### Bootstrap!!  Generate random samples of size N_SWE_nino and N_SWE_nina.  Do it once to see if it works.\n",
    "P_random=np.random.choice(data.BerthoudPass_April1SWE_inches,N_SWE_nino)\n",
    "print(P_random)  ## LOOK AT YOUR DATA"
   ]
  },
  {
   "cell_type": "code",
   "execution_count": 27,
   "metadata": {},
   "outputs": [
    {
     "name": "stdout",
     "output_type": "stream",
     "text": [
      "1000\n",
      "(1000,)\n",
      "16.24205\n",
      "0.8677758030591772\n",
      "13.625\n",
      "19.25625\n"
     ]
    }
   ],
   "source": [
    "### Now Bootstrap Nbs times to generate a distribution of randomly selected mean SWE.\n",
    "Nbs=1000\n",
    "## initialize array\n",
    "P_Bootstrap=np.empty((Nbs,N_SWE_nino))\n",
    "## loop over to fill in array with randomly selected values\n",
    "for ii in range(Nbs):\n",
    "    P_Bootstrap[ii,:]=np.random.choice(data.BerthoudPass_April1SWE_inches,N_SWE_nino)\n",
    "\n",
    "## Calculate the means of your randomly selected SWE values.\n",
    "P_Bootstrap_mean=np.mean(P_Bootstrap,axis=1)\n",
    "print(len(P_Bootstrap_mean))  ## check length to see if you averaged across the correct axis\n",
    "print(np.shape(P_Bootstrap_mean)) ## another option to look at the dimensions of a variable\n",
    "\n",
    "P_Bootstrap_mean_avg=np.mean(P_Bootstrap_mean)\n",
    "print(P_Bootstrap_mean_avg)\n",
    "P_Bootstrap_mean_std=np.std(P_Bootstrap_mean)\n",
    "print(P_Bootstrap_mean_std)\n",
    "P_Bootstrap_mean_min=np.min(P_Bootstrap_mean)\n",
    "print(P_Bootstrap_mean_min)\n",
    "P_Bootstrap_mean_max=np.max(P_Bootstrap_mean)\n",
    "print(P_Bootstrap_mean_max)"
   ]
  },
  {
   "cell_type": "code",
   "execution_count": 28,
   "metadata": {},
   "outputs": [
    {
     "data": {
      "image/png": "[encoded data removed]",
      "text/plain": [
       "<Figure size 640x480 with 1 Axes>"
      ]
     },
     "metadata": {},
     "output_type": "display_data"
    }
   ],
   "source": [
    "### Use matplotlib to plot a histogram of the bootstrapped means to compare to the conditioned SWE mean\n",
    "binsize=0.1\n",
    "min4hist=np.round(np.min(P_Bootstrap_mean),1)-binsize\n",
    "max4hist=np.round(np.max(P_Bootstrap_mean),1)+binsize\n",
    "nbins=int((max4hist-min4hist)/binsize)\n",
    "\n",
    "plt.hist(P_Bootstrap_mean,nbins,edgecolor='black')\n",
    "plt.xlabel('Mean SWE (inches)');\n",
    "plt.ylabel('Count');\n",
    "plt.title('Bootstrapped Randomly Selected Mean SWE Values');"
   ]
  },
  {
   "cell_type": "code",
   "execution_count": 29,
   "metadata": {},
   "outputs": [
    {
     "name": "stdout",
     "output_type": "stream",
     "text": [
      "sample_mean - El Nino: 16.44\n",
      "population_mean: 16.24\n",
      "population_std: 0.87\n",
      "Z-statistic (# standard errors that the sample mean deviates from the population mean: 0.23\n",
      "Probability happened by chance, one-tailed test (percent): 41.0%\n"
     ]
    }
   ],
   "source": [
    "## What is the probability that the snowfall was lower during El Nino by chance?\n",
    "## Using Barnes equation (83) on page 15 to calculate probability using z-statistic\n",
    "sample_mean=SWE_avg_nino\n",
    "sample_N=1\n",
    "population_mean=np.mean(P_Bootstrap_mean)\n",
    "population_std=np.std(P_Bootstrap_mean)\n",
    "xstd=population_std/np.sqrt(sample_N)\n",
    "z_nino=(sample_mean-population_mean)/xstd\n",
    "\n",
    "print(f'sample_mean - El Nino: {np.round(sample_mean,2)}')\n",
    "print(f'population_mean: {np.round(population_mean,2)}')\n",
    "print(f'population_std: {np.round(population_std,2)}')\n",
    "print(f'Z-statistic (# standard errors that the sample mean deviates from the population mean: {np.round(z_nino,2)}')\n",
    "prob=(1-stats.norm.cdf(np.abs(z_nino)))*100 ##this is a one-sided test\n",
    "print(f'Probability happened by chance, one-tailed test (percent): {np.round(prob,0)}%')"
   ]
  },
  {
   "cell_type": "code",
   "execution_count": 30,
   "metadata": {},
   "outputs": [
    {
     "name": "stdout",
     "output_type": "stream",
     "text": [
      "sample_mean - El Nino: 16.44\n",
      "population_mean: 16.24\n",
      "population_std: 0.87\n",
      "Z-statistic (# standard errors that the sample mean deviates from the population mean: 0.23\n",
      "Probability happened by chance, two-tailed test (percent): 82.0%\n"
     ]
    }
   ],
   "source": [
    "## What is the probability that the snowfall El Nino mean differs from the mean by chance?\n",
    "## Using Barnes equation (83) on page 15 to calculate probability using z-statistic\n",
    "sample_mean=SWE_avg_nino\n",
    "sample_N=1\n",
    "population_mean=np.mean(P_Bootstrap_mean)\n",
    "population_std=np.std(P_Bootstrap_mean)\n",
    "xstd=population_std/np.sqrt(sample_N)\n",
    "z_nino=(sample_mean-population_mean)/xstd\n",
    "\n",
    "print(f'sample_mean - El Nino: {np.round(sample_mean,2)}')\n",
    "print(f'population_mean: {np.round(population_mean,2)}')\n",
    "print(f'population_std: {np.round(population_std,2)}')\n",
    "print(f'Z-statistic (# standard errors that the sample mean deviates from the population mean: {np.round(z_nino,2)}')\n",
    "\n",
    "prob=(1-stats.norm.cdf(np.abs(z_nino)))*2*100 ##this is a two-sided test\n",
    "print(f'Probability happened by chance, two-tailed test (percent): {np.round(prob,0)}%')"
   ]
  },
  {
   "cell_type": "code",
   "execution_count": 31,
   "metadata": {},
   "outputs": [
    {
     "name": "stdout",
     "output_type": "stream",
     "text": [
      "sample_mean - La Nina: 16.19\n",
      "population_mean: 16.24\n",
      "population_std: 0.87\n",
      "Z-statistic (# standard errors that the sample mean deviates from the population mean: -0.06\n",
      "Probability happened by chance, one-tailed test (percent): 48.0%\n"
     ]
    }
   ],
   "source": [
    "## What is the probability that the snowfall was higher during La Nina just due to chance?\n",
    "## Using Barnes equation (83) on page 15 to calculate probability using z-statistic\n",
    "sample_mean=SWE_avg_nina\n",
    "sample_N=1\n",
    "population_mean=np.mean(P_Bootstrap_mean)\n",
    "population_std=np.std(P_Bootstrap_mean)\n",
    "xstd=population_std/np.sqrt(sample_N)\n",
    "z_nina=(sample_mean-population_mean)/xstd\n",
    "\n",
    "print(f'sample_mean - La Nina: {np.round(sample_mean,2)}')\n",
    "print(f'population_mean: {np.round(population_mean,2)}')\n",
    "print(f'population_std: {np.round(population_std,2)}')\n",
    "print(f'Z-statistic (# standard errors that the sample mean deviates from the population mean: {np.round(z_nina,2)}')\n",
    "prob=(1-stats.norm.cdf(np.abs(z_nina)))*100 ##this is a one-sided test\n",
    "print(f'Probability happened by chance, one-tailed test (percent): {np.round(prob,0)}%')"
   ]
  },
  {
   "cell_type": "code",
   "execution_count": 32,
   "metadata": {},
   "outputs": [
    {
     "name": "stdout",
     "output_type": "stream",
     "text": [
      "sample_mean - El Nino: 16.19\n",
      "population_mean: 16.24\n",
      "population_std: 0.87\n",
      "Z-statistic (# standard errors that the sample mean deviates from the population mean: -0.06\n",
      "Probability happened by chance, two-tailed test (percent): 96.0%\n"
     ]
    }
   ],
   "source": [
    "## What is the probability that the snowfall during La Nina differed just due to chance?\n",
    "## Using Barnes equation (83) on page 15 to calculate probability using z-statistic\n",
    "sample_mean=SWE_avg_nina\n",
    "sample_N=1\n",
    "population_mean=np.mean(P_Bootstrap_mean)\n",
    "population_std=np.std(P_Bootstrap_mean)\n",
    "xstd=population_std/np.sqrt(sample_N)\n",
    "z_nina=(sample_mean-population_mean)/xstd\n",
    "\n",
    "print(f'sample_mean - El Nino: {np.round(sample_mean,2)}')\n",
    "print(f'population_mean: {np.round(population_mean,2)}')\n",
    "print(f'population_std: {np.round(population_std,2)}')\n",
    "print(f'Z-statistic (# standard errors that the sample mean deviates from the population mean: {np.round(z_nina,2)}')\n",
    "prob=(1-stats.norm.cdf(np.abs(z_nina)))*2*100 ##this is a two-sided test\n",
    "print(f'Probability happened by chance, two-tailed test (percent): {np.round(prob,0)}%')"
   ]
  },
  {
   "cell_type": "markdown",
   "metadata": {},
   "source": [
    "#### Maybe you want to set up the bootstrap in another way?? \n",
    "Another bootstrapping approach is provided by Vineel Yettella (ATOC Ph.D. 2018).  \n",
    "Check these out and see what you find!!"
   ]
  },
  {
   "cell_type": "code",
   "execution_count": 33,
   "metadata": {},
   "outputs": [
    {
     "name": "stdout",
     "output_type": "stream",
     "text": [
      "1.4923383620689694\n",
      "-1.9210183189655123\n"
     ]
    },
    {
     "data": {
      "image/png": "[encoded data removed]",
      "text/plain": [
       "<Figure size 640x480 with 1 Axes>"
      ]
     },
     "metadata": {},
     "output_type": "display_data"
    }
   ],
   "source": [
    "### Another bootstrapping strategy (provided by Vineel Yettella)\n",
    "SWE = data['BerthoudPass_April1SWE_inches']\n",
    "SWE_nino = data[data.Nino34_anomaly_prevDec>1.0]['BerthoudPass_April1SWE_inches']\n",
    "\n",
    "#We start by setting up a null hypothesis H0. \n",
    "#Our H0 will be that the difference in means of the two populations that the samples came from is equal to zero.\n",
    "#We will use the bootstrap to test this null hypothesis.\n",
    "\n",
    "#We next choose a significance level for the hypothesis test\n",
    "alpha = 0.05\n",
    "\n",
    "#All hypothesis tests need a test statistic.\n",
    "#Here, we'll use the difference in sample means as the test statistic.\n",
    "#create array to hold bootstrapped test statistic values\n",
    "bootstrap_statistic = np.empty(10000)\n",
    "\n",
    "#bootstrap 10000 times\n",
    "for i in range(1,10000):\n",
    "    \n",
    "    #create a resample of SWE by sampling with replacement (same length as SWE)\n",
    "    resample_original = np.random.choice(SWE, len(SWE), replace=True)\n",
    "    \n",
    "    #create a resample of SWE_nino by sampling with replacement (same length as SWE_nino)\n",
    "    resample_nino = np.random.choice(SWE_nino, len(SWE_nino), replace=True)\n",
    "    \n",
    "    #Compute the test statistic from the resampled data, i.e., the difference in means\n",
    "    bootstrap_statistic[i] = np.mean(resample_original) - np.mean(resample_nino)\n",
    "\n",
    "#Let's plot the distribution of the test statistic\n",
    "plt.hist(bootstrap_statistic,[-5,-4,-3,-2,-1,0,1,2,3,4,5],edgecolor='black')\n",
    "plt.xlabel('Difference in sample means')\n",
    "plt.ylabel('Count')\n",
    "plt.title('Bootstrap distribution of difference in sample means')\n",
    "\n",
    "#Create 95% CI from the bootstrapped distribution. The upper limit of the CI is defined as the 97.5% percentile\n",
    "#and the lower limit as the 2.5% percentile of the boostrap distribution, so that 95% of the \n",
    "#distribution lies within the two limits\n",
    "\n",
    "CI_up = np.percentile(bootstrap_statistic, 100*(1 - alpha/2.0))\n",
    "CI_lo = np.percentile(bootstrap_statistic, 100*(alpha/2.0))\n",
    "\n",
    "print(CI_up)\n",
    "print(CI_lo)\n",
    "\n",
    "#We see that the confidence interval contains zero, so we fail to reject the null hypothesis that the difference\n",
    "#in means is equal to zero"
   ]
  },
  {
   "cell_type": "markdown",
   "metadata": {},
   "source": [
    "### Question 3: Do you get the same result when you use a t-test?\n",
    "\n",
    "Check your assumptions for the t-test and understand what is \"under the hood\" of your python coding."
   ]
  },
  {
   "cell_type": "code",
   "execution_count": 34,
   "metadata": {},
   "outputs": [
    {
     "name": "stdout",
     "output_type": "stream",
     "text": [
      "N: 16\n",
      "sample_mean: 16.0\n",
      "sample_std: 3.19\n",
      "T-statistic: 0.25\n",
      "Probability (percent): 40.0%\n"
     ]
    }
   ],
   "source": [
    "## Apply a t-test to test the null hypothesis that the means of the two samples are the same \n",
    "## at the 95% confidence level.  Is this a one-sided or two-sided test??  Does it match what you got above??\n",
    "\n",
    "## Calculate the t-statistic using the Barnes Notes - Compare a sample mean and a population mean.\n",
    "## Barnes Eq. (96)\n",
    "N=len(data[data.Nino34_anomaly_prevDec>1.0]['BerthoudPass_April1SWE_inches'])\n",
    "print(f'N: {N}')\n",
    "sample_mean=np.mean(data[data.Nino34_anomaly_prevDec>1.0]['BerthoudPass_April1SWE_inches'])\n",
    "print(f'sample_mean: {np.round(sample_mean)}')\n",
    "sample_std=np.std(data[data.Nino34_anomaly_prevDec>1.0]['BerthoudPass_April1SWE_inches'])\n",
    "print(f'sample_std: {np.round(sample_std,2)}')\n",
    "population_mean=np.mean(data['BerthoudPass_April1SWE_inches'])\n",
    "\n",
    "## Using Barnes equation (96) to calculate probability using the t-statistic\n",
    "t=(sample_mean-population_mean)/(sample_std/(np.sqrt(N-1)))\n",
    "print(f'T-statistic: {np.round(t,2)}')\n",
    "prob=(1-stats.t.cdf(t,N-1))*100\n",
    "print(f'Probability (percent): {np.round(prob,0)}%')"
   ]
  },
  {
   "cell_type": "code",
   "execution_count": 35,
   "metadata": {},
   "outputs": [
    {
     "name": "stdout",
     "output_type": "stream",
     "text": [
      "N1=87, N2=16\n",
      "16.235632183908045\n",
      "16.44375\n",
      "3.413562436574068\n",
      "3.1894295630253375\n",
      "T-statistic using Barnes Eq. 109/Eq. 110:\n",
      "s: 3.41\n",
      "tw: -0.22\n",
      "Probability (percent): 59.0%\n"
     ]
    }
   ],
   "source": [
    "## Calculate the t-statistic using the Barnes Notes - Compare two sample means.  Equation (110)\n",
    "## See page 26 of Chapter 1 of the Barnes notes for a worked example.\n",
    "\n",
    "sampledata1=data['BerthoudPass_April1SWE_inches']\n",
    "sampledata2=data[data.Nino34_anomaly_prevDec>1.0]['BerthoudPass_April1SWE_inches']\n",
    "\n",
    "N1=len(sampledata1)\n",
    "N2=len(sampledata2)\n",
    "print(f'N1={N1}, N2={N2}')\n",
    "sample_mean1=np.mean(sampledata1)\n",
    "sample_mean2=np.mean(sampledata2)\n",
    "print(sample_mean1)\n",
    "print(sample_mean2)\n",
    "sample_std1=np.std(sampledata1)\n",
    "sample_std2=np.std(sampledata2)\n",
    "print(sample_std1)\n",
    "print(sample_std2)\n",
    "\n",
    "print(\"T-statistic using Barnes Eq. 109/Eq. 110:\")\n",
    "s=np.sqrt((N1*sample_std1**2+N2*sample_std2**2)/(N1+N2-2))\n",
    "print(f's: {np.round(s,2)}')\n",
    "tw=(sample_mean1-sample_mean2-0)/(s*np.sqrt(1/N1+1/N2))\n",
    "print(f'tw: {np.round(tw,2)}')\n",
    "prob=(1-stats.t.cdf(tw,N-1))*100\n",
    "print(f'Probability (percent): {np.round(prob,0)}%')"
   ]
  },
  {
   "cell_type": "code",
   "execution_count": 39,
   "metadata": {},
   "outputs": [
    {
     "name": "stdout",
     "output_type": "stream",
     "text": [
      "Null Hypothesis: ENSO snow years have the same mean as the full record.\n",
      "t: 0.23\n",
      "pvalue: 0.82\n",
      "Try using a ttest function from python - using the p-value\n",
      "0.8197180433352356\n",
      "Cannot reject the null hypthesis.\n",
      "tcrit: 2.13\n",
      "Cannot reject the null hypthesis.\n"
     ]
    }
   ],
   "source": [
    "### Always try to code it yourself to understand what you are doing.\n",
    "## Word to the wise - understand what is \"under the hood\" of your python function...\n",
    "## Wait a second - What is that stats.ttest_ind function doing???  \n",
    "# Check out the documentation: https://docs.scipy.org/doc/scipy/reference/generated/scipy.stats.ttest_ind.html\n",
    "# Review assumptions made with regard to the variances of the samples you are comparing...\n",
    "\n",
    "print('Null Hypothesis: ENSO snow years have the same mean as the full record.')\n",
    "t=stats.ttest_ind(data[data.Nino34_anomaly_prevDec>1.0]['BerthoudPass_April1SWE_inches'],data['BerthoudPass_April1SWE_inches'],equal_var=False)\n",
    "#Note: When equal_var is false (defaults to true), you assume the underlying population variances are NOT equal \n",
    "## and this function then uses Welch's T-test\n",
    "print(f't: {np.round(t.statistic,2)}')\n",
    "print(f'pvalue: {np.round(t.pvalue,2)}')\n",
    "\n",
    "######## example using python function = improved after discussions with Yu-Wen in office hours :)\n",
    "print('Try using a ttest function from python - using the p-value')\n",
    "#stats.ttest_ind(gts_1850_norm,gts_mem1_norm)\n",
    "\n",
    "print(t.pvalue)\n",
    "\n",
    "if t.pvalue < 0.05:\n",
    "    print('Can reject the null hypthesis.')\n",
    "else:\n",
    "    print('Cannot reject the null hypthesis.')   \n",
    "    \n",
    "#### can also compare tstatistic to tcrit to evaluate statistical significance.\n",
    "N=len(data[data.Nino34_anomaly_prevDec>1.0]['BerthoudPass_April1SWE_inches'])\n",
    "tcrit=stats.t.ppf(0.975,N-1)\n",
    "print(f'tcrit: {np.round(tcrit,2)}')\n",
    "\n",
    "if np.abs(t.statistic) > np.abs(tcrit):\n",
    "    print('Can reject the null hypthesis.')\n",
    "else:\n",
    "    print('Cannot reject the null hypthesis.')     \n",
    "    "
   ]
  },
  {
   "cell_type": "markdown",
   "metadata": {},
   "source": [
    "### SUMMARIZE WHAT YOU FOUND AND WHAT YOU LEARNED...  \n",
    "\n",
    "Does ENSO affect total Colorado snow accumulation at Berthoud Pass, Colorado in the following winter? "
   ]
  },
  {
   "cell_type": "code",
   "execution_count": null,
   "metadata": {},
   "outputs": [],
   "source": []
  }
 ],
 "metadata": {
  "kernelspec": {
   "display_name": "Python 3 (ipykernel)",
   "language": "python",
   "name": "python3"
  },
  "language_info": {
   "codemirror_mode": {
    "name": "ipython",
    "version": 3
   },
   "file_extension": ".py",
   "mimetype": "text/x-python",
   "name": "python",
   "nbconvert_exporter": "python",
   "pygments_lexer": "ipython3",
   "version": "3.9.15"
  }
 },
 "nbformat": 4,
 "nbformat_minor": 2
}
