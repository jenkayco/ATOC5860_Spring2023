{
 "cells": [
  {
   "cell_type": "markdown",
   "metadata": {},
   "source": [
    "# ATOC5860 - binomial_example_cmip5 - Lecture #3\n",
    "##### Originally coded by Prof. Barnes (CSU) - updated with additional commenting by Prof. Kay (CU)\n",
    "##### Last updated: January 30, 2023"
   ]
  },
  {
   "cell_type": "code",
   "execution_count": 1,
   "metadata": {},
   "outputs": [],
   "source": [
    "# Import the packages and general set-up\n",
    "%matplotlib inline  \n",
    "# this enables plotting within notebook\n",
    "import numpy as np\n",
    "import matplotlib.pyplot as plt\n",
    "import scipy.stats as stats\n",
    "import importlib"
   ]
  },
  {
   "cell_type": "code",
   "execution_count": 2,
   "metadata": {},
   "outputs": [
    {
     "name": "stdout",
     "output_type": "stream",
     "text": [
      "k = 0, sum = 3.552713678800501e-15\n",
      "k = 1, sum = 1.7408297026122394e-13\n",
      "k = 2, sum = 4.1815439999481775e-12\n",
      "k = 3, sum = 6.562927978848138e-11\n",
      "k = 4, sum = 7.569163074094836e-10\n",
      "k = 5, sum = 6.840242150474312e-09\n",
      "k = 6, sum = 5.043741069243897e-08\n",
      "k = 7, sum = 3.120204219442256e-07\n",
      "k = 8, sum = 1.6526333546096381e-06\n",
      "k = 9, sum = 7.610913055344771e-06\n",
      "k = 10, sum = 3.0848203888211836e-05\n",
      "k = 11, sum = 0.00011112248131084354\n",
      "k = 12, sum = 0.0003586348366972908\n",
      "k = 13, sum = 0.0010440536669982239\n",
      "k = 14, sum = 0.0027576007427505605\n",
      "k = 15, sum = 0.0066416407811225025\n",
      "k = 16, sum = 0.014652473360264654\n",
      "k = 17, sum = 0.029731687626885196\n",
      "k = 18, sum = 0.05570144553050943\n",
      "k = 19, sum = 0.09670632643096866\n",
      "k = 20, sum = 0.15616340373663468\n",
      "k = 21, sum = 0.2354395068108559\n",
      "k = 22, sum = 0.33273290603830924\n",
      "k = 23, sum = 0.44271674864325633\n",
      "k = 24, sum = 0.5572832513567432\n",
      "k = 25, sum = 0.6672670939616903\n",
      "k = 26, sum = 0.7645604931891437\n",
      "k = 27, sum = 0.8438365962633649\n",
      "k = 28, sum = 0.9032936735690309\n",
      "k = 29, sum = 0.9442985544694901\n",
      "k = 30, sum = 0.9702683123731143\n",
      "k = 31, sum = 0.9853475266397348\n",
      "k = 32, sum = 0.9933583592188769\n",
      "k = 33, sum = 0.9972423992572489\n",
      "k = 34, sum = 0.9989559463330012\n",
      "k = 35, sum = 0.9996413651633022\n",
      "k = 36, sum = 0.9998888775186886\n",
      "k = 37, sum = 0.9999691517961112\n",
      "k = 38, sum = 0.9999923890869441\n",
      "k = 39, sum = 0.9999983473666448\n",
      "k = 40, sum = 0.9999996879795775\n",
      "k = 41, sum = 0.9999999495625888\n",
      "k = 42, sum = 0.9999999931597573\n",
      "k = 43, sum = 0.9999999992430831\n",
      "k = 44, sum = 0.9999999999343702\n",
      "k = 45, sum = 0.9999999999958179\n",
      "k = 46, sum = 0.9999999999998254\n",
      "k = 47, sum = 0.9999999999999959\n",
      "k = 48, sum = 0.9999999999999994\n"
     ]
    }
   ],
   "source": [
    "###CMIP5 Example 1.7.4.3 in the Barnes Notes\n",
    "\n",
    "## How many of the 48 available CMIP5 climate models must agree that the global temperature will increase by 2100\n",
    "## so that we can say with 95% certainty that the models do not agree purely by chance?\n",
    "## What is the 95% confidence interval on this number of models?\n",
    "\n",
    "## H0 (null hypothesis): The models agreeing that the temperature will increase occurred purely by chance.\n",
    "\n",
    "## Define success as a model says global temperatures will increase by 2100.\n",
    "## There is a 50% chance that any one model will predict a temperature increase (p=0.5)\n",
    "\n",
    "N = 48   ## number of CMIP5 climate models\n",
    "p = 0.5  ## probability that any one model will predict a temperature increase\n",
    "s = 0    ## initialize s\n",
    "\n",
    "for k in np.arange(0,N+1):\n",
    "    prob = stats.binom.pmf(k,N,p)\n",
    "    s = s + prob\n",
    "    print('k = ' + str(k) + ', sum = ' + str(s))"
   ]
  },
  {
   "cell_type": "code",
   "execution_count": 3,
   "metadata": {},
   "outputs": [
    {
     "name": "stdout",
     "output_type": "stream",
     "text": [
      "Number of models that need to show warming to reject null hypothesis = 30\n"
     ]
    }
   ],
   "source": [
    "## Using the python function stats.binom.ppf to find the Number of Models\n",
    "alpha = 0.05\n",
    "Nmodels=stats.binom.ppf(1-alpha,48,0.5)\n",
    "print(f'Number of models that need to show warming to reject null hypothesis = {np.int64(Nmodels)}')"
   ]
  },
  {
   "cell_type": "code",
   "execution_count": 4,
   "metadata": {},
   "outputs": [
    {
     "name": "stdout",
     "output_type": "stream",
     "text": [
      "17 < true value < 31\n"
     ]
    }
   ],
   "source": [
    "## Using the python function stats.binom.interval to place confidence intervals on Number of the Models\n",
    "## Note: This is placing a 1-alpha (here 95%) confidence interval under the null hypothesis\n",
    "[Nmodels_min,Nmodels_max]=stats.binom.interval(1-alpha, N, p)\n",
    "print(f'{np.int64(Nmodels_min)} < true value < {np.int64(Nmodels_max)}')"
   ]
  },
  {
   "cell_type": "code",
   "execution_count": null,
   "metadata": {},
   "outputs": [],
   "source": []
  }
 ],
 "metadata": {
  "kernelspec": {
   "display_name": "Python 3 (ipykernel)",
   "language": "python",
   "name": "python3"
  },
  "language_info": {
   "codemirror_mode": {
    "name": "ipython",
    "version": 3
   },
   "file_extension": ".py",
   "mimetype": "text/x-python",
   "name": "python",
   "nbconvert_exporter": "python",
   "pygments_lexer": "ipython3",
   "version": "3.9.15"
  }
 },
 "nbformat": 4,
 "nbformat_minor": 4
}
