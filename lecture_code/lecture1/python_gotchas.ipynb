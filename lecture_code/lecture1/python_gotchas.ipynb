{
 "cells": [
  {
   "cell_type": "markdown",
   "metadata": {},
   "source": [
    "# ATOC5860 - some python gotchas - Lecture #1\n",
    "##### Prof. Kay (CU)\n",
    "##### Last updated: January 13, 2023"
   ]
  },
  {
   "cell_type": "code",
   "execution_count": 1,
   "metadata": {},
   "outputs": [],
   "source": [
    "import numpy as np\n",
    "import matplotlib.pyplot as plt\n",
    "import pandas as pd  # library for data analysis for text files (everything but netcdf files)\n",
    "%matplotlib inline "
   ]
  },
  {
   "cell_type": "code",
   "execution_count": 2,
   "metadata": {},
   "outputs": [
    {
     "name": "stdout",
     "output_type": "stream",
     "text": [
      "[ 0.  1.  2.  3.  4.  5.  6.  7.  8.  9. 10.]\n",
      "(11,)\n",
      "0.0\n",
      "[0. 1. 2. 3.]\n"
     ]
    }
   ],
   "source": [
    "## python gotcha #1 -- indexing\n",
    "foo=np.linspace(0,10,11)\n",
    "print(foo)\n",
    "print(foo.shape)\n",
    "\n",
    "## python is 0 based\n",
    "print(foo[0])\n",
    "\n",
    "## indexing over the first 5 values of an array only selects the first 4 values of an array\n",
    "print(foo[0:4])"
   ]
  },
  {
   "cell_type": "code",
   "execution_count": 3,
   "metadata": {},
   "outputs": [
    {
     "name": "stdout",
     "output_type": "stream",
     "text": [
      "[10.  1.  2.  3.  4.  5.  6.  7.  8.  9. 10.]\n",
      "[ 0.  1.  2.  3.  4.  5.  6.  7.  8.  9. 10.]\n",
      "[10.  1.  2.  3.  4.  5.  6.  7.  8.  9. 10.]\n"
     ]
    }
   ],
   "source": [
    "## python gotcha #2 -- copying vs. linking arrays\n",
    "\n",
    "## if you want to copy an array\n",
    "foo_new = foo.copy() \n",
    "\n",
    "## if you want to link an array\n",
    "foo_new_linked = foo\n",
    "\n",
    "foo[0]=10\n",
    "print(foo)\n",
    "print(foo_new)\n",
    "print(foo_new_linked)"
   ]
  },
  {
   "cell_type": "code",
   "execution_count": 4,
   "metadata": {},
   "outputs": [
    {
     "name": "stdout",
     "output_type": "stream",
     "text": [
      "this is [10.  1.  2.  3.  4.  5.  6.  7.  8.  9. 10.]\n",
      "this is {foo}\n"
     ]
    }
   ],
   "source": [
    "## python slick combining text and numbers (Thanks Devon Dunmire (CU))\n",
    "\n",
    "print(f'this is {foo}')\n",
    "print('this is {foo}')"
   ]
  },
  {
   "cell_type": "markdown",
   "metadata": {},
   "source": [
    "## Do you have a python gotcha to add?  Send it to Professor Kay :)"
   ]
  },
  {
   "cell_type": "markdown",
   "metadata": {},
   "source": [
    "### code that hides code - Neat to have as an option if you don't want to show the code..."
   ]
  },
  {
   "cell_type": "code",
   "execution_count": 1,
   "metadata": {},
   "outputs": [],
   "source": [
    "#from IPython.display import HTML\n",
    "#HTML('''<script>\n",
    "#code_show=true; \n",
    "#function code_toggle() {\n",
    "# if (code_show){\n",
    "# $('div.input').hide();\n",
    "# } else {\n",
    "# $('div.input').show();\n",
    "# }\n",
    "# code_show = !code_show\n",
    "#} \n",
    "#$( document ).ready(code_toggle);\n",
    "#</script>\n",
    "#The raw code for this IPython notebook is by default hidden for easier reading.\n",
    "#To toggle on/off the raw code, click <a href=\"javascript:code_toggle()\">here</a>.''')"
   ]
  },
  {
   "cell_type": "code",
   "execution_count": null,
   "metadata": {},
   "outputs": [],
   "source": []
  }
 ],
 "metadata": {
  "kernelspec": {
   "display_name": "Python 3 (ipykernel)",
   "language": "python",
   "name": "python3"
  },
  "language_info": {
   "codemirror_mode": {
    "name": "ipython",
    "version": 3
   },
   "file_extension": ".py",
   "mimetype": "text/x-python",
   "name": "python",
   "nbconvert_exporter": "python",
   "pygments_lexer": "ipython3",
   "version": "3.10.4"
  }
 },
 "nbformat": 4,
 "nbformat_minor": 2
}
